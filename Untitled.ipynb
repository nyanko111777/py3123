{
 "cells": [
  {
   "cell_type": "code",
   "execution_count": 1,
   "id": "1de4cb1c-e2a7-474e-bd6d-e94b45f319aa",
   "metadata": {},
   "outputs": [],
   "source": [
    "! code ."
   ]
  },
  {
   "cell_type": "code",
   "execution_count": null,
   "id": "7f4dd211-0527-4fa3-9a91-04befd445b11",
   "metadata": {},
   "outputs": [],
   "source": []
  }
 ],
 "metadata": {
  "jupytext": {
   "main_language": "python"
  },
  "kernelspec": {
   "display_name": "Python 3 (ipykernel)",
   "language": "python",
   "name": "python3"
  },
  "language_info": {
   "codemirror_mode": {
    "name": "ipython",
    "version": 3
   },
   "file_extension": ".py",
   "mimetype": "text/x-python",
   "name": "python",
   "nbconvert_exporter": "python",
   "pygments_lexer": "ipython3",
   "version": "3.11.4"
  }
 },
 "nbformat": 4,
 "nbformat_minor": 5
}
