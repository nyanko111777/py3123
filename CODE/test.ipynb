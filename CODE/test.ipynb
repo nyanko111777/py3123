{
 "cells": [
  {
   "cell_type": "code",
   "execution_count": 1,
   "id": "21dcc091-0321-4fed-9012-3a48a5ee62cb",
   "metadata": {},
   "outputs": [],
   "source": [
    "import FreeSimpleGUI as sg\n"
   ]
  },
  {
   "cell_type": "code",
   "execution_count": 3,
   "id": "116edc47-beda-4591-b441-092f7c30918b",
   "metadata": {},
   "outputs": [
    {
     "data": {
      "text/plain": [
       "'OK'"
      ]
     },
     "execution_count": 3,
     "metadata": {},
     "output_type": "execute_result"
    }
   ],
   "source": [
    "sg.popup(\"sss\",location=(10,10))"
   ]
  },
  {
   "cell_type": "code",
   "execution_count": null,
   "id": "6be6ad74-0319-4a73-ba30-5a3817029620",
   "metadata": {},
   "outputs": [],
   "source": []
  }
 ],
 "metadata": {
  "kernelspec": {
   "display_name": "Python 3 (ipykernel)",
   "language": "python",
   "name": "python3"
  },
  "language_info": {
   "codemirror_mode": {
    "name": "ipython",
    "version": 3
   },
   "file_extension": ".py",
   "mimetype": "text/x-python",
   "name": "python",
   "nbconvert_exporter": "python",
   "pygments_lexer": "ipython3",
   "version": "3.12.3"
  }
 },
 "nbformat": 4,
 "nbformat_minor": 5
}
